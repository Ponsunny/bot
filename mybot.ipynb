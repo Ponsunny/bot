{
 "cells": [
  {
   "cell_type": "code",
   "execution_count": 1,
   "metadata": {},
   "outputs": [],
   "source": [
    "from telegram.ext import Updater, CommandHandler, CallbackQueryHandler\n",
    "from telegram.ext import MessageHandler, Filters\n",
    "import collections\n",
    "import sys\n",
    "import time\n",
    "import teleport\n",
    "from telegram import KeyboardButton, ReplyKeyboardMarkup, Location\n",
    "from bs4 import BeautifulSoup\n",
    "import requests\n",
    "import collections\n",
    "import pandas as pd\n",
    "from vincenty import vincenty\n",
    "import math\n",
    "import requests\n",
    "import json\n",
    "from pandas.io.json import json_normalize\n",
    "pd.options.display.max_colwidth = 100\n",
    "import matplotlib.pyplot as plt\n"
   ]
  },
  {
   "cell_type": "code",
   "execution_count": 2,
   "metadata": {},
   "outputs": [],
   "source": [
    "def getting_data(long, lat):\n",
    "    params = {'format': 'json'}\n",
    "    g = requests.get('https://apidata.mos.ru/v1/features/629?api_key=65b653b36cd09a1fb0d6fe1223843c8a', params=params)\n",
    "    data = json.loads(g.text)\n",
    "    argh=json_normalize(data['features'])\n",
    "    colnames=[]\n",
    "    for i in argh.columns:\n",
    "        colnames.append(i.split('.')[-1])\n",
    "    argh.columns=colnames\n",
    "    valid=argh.iloc[:,0:-5]\n",
    "    givenpoint=[]\n",
    "    listremover = lambda x: tuple(x[0])\n",
    "    valid['coordinates']=valid['coordinates'].apply(listremover)\n",
    "    valid['Distance']=valid['coordinates']\n",
    "    givenpoint.append(long)\n",
    "    givenpoint.append(lat)\n",
    "    givenpoint=tuple(givenpoint)\n",
    "    vince = lambda x: vincenty(x, givenpoint, miles=False)\n",
    "    valid['Distance']=valid['Distance'].apply(vince)\n",
    "    valid[valid['Distance'].idxmin():valid['Distance'].idxmin()+1]\n",
    "    plt.figure()\n",
    "    valid['Distance'].plot(kind='density')\n",
    "    return(valid[valid['Distance'].idxmin():valid['Distance'].idxmin()+1])\n"
   ]
  },
  {
   "cell_type": "code",
   "execution_count": 3,
   "metadata": {},
   "outputs": [],
   "source": [
    "def start(bot, update):\n",
    "    \n",
    "    keyboard = [[KeyboardButton(\"Нажимать сюда. P.S. Я просто делаю проект и не буду красть вашу дату;)\", request_location=True)]]\n",
    "\n",
    "    reply_markup = ReplyKeyboardMarkup(keyboard)\n",
    "\n",
    "    update.message.reply_text(\"Привет, я бот, который может помочь найти ближайший к вам спортивный объект в Москве! Если вы расшарите свое местоположение, то я найду близжайшее спортивное учереждение к вам (・_・ヾ) Пожалуйста, расшарьте вашу локацию \\^_-/\", reply_markup=reply_markup)\n",
    "\n",
    "coordinates=[]\n",
    "\n",
    "def handle_location(bot, update):\n",
    "    long=update.message.location.longitude\n",
    "    lat=update.message.location.latitude\n",
    "    global coordinates\n",
    "    coordinates.append(long)\n",
    "    coordinates.append(lat)\n",
    "    print('aaaaa', long, lat)\n",
    "    while coordinates==[]:\n",
    "        sleep(10)\n",
    "    update.message.reply_text(\"Вот, что я нашел совсем близко\")\n",
    "    update.message.reply_text(\"(ง ื▿ ื)ว\")\n",
    "    update.message.reply_text(str(getting_data(long, lat)['CommonName']).split('    ')[1].split('\\nName')[0])\n",
    "    update.message.reply_text(\"ФИО главы: \"+str(getting_data(long, lat)['ChiefName']).split('    ')[1].split('\\nName')[0])\n",
    "    contacts=[\"WorkingHours\",'ChiefPhone','PublicPhone','Email']\n",
    "    \n",
    "\n",
    "\n",
    "    for i in contacts:\n",
    "        update.message.reply_text(str(getting_data(long, lat)[i]).split('    ')[1].split('\\nName')[0].split('{')[1].split('}')[0].replace(\"'\", '')   )\n",
    "    place = [list(x) for x in getting_data(long, lat)['coordinates']]\n",
    "    target_lat=place[0][1]\n",
    "    target_long=place[0][0]\n",
    "    bot.sendLocation(chat_id=update.message.chat_id, latitude=target_lat, longitude=target_long)\n",
    "    update.message.reply_text(\"Спасибо за пользование! Я также могу показать результаты поиска для нового нажатия на кнопку;)\")\n",
    "    return(getting_data(long, lat))\n",
    "\n",
    "\n",
    "\n",
    "    \n"
   ]
  },
  {
   "cell_type": "code",
   "execution_count": 4,
   "metadata": {},
   "outputs": [
    {
     "data": {
      "text/plain": [
       "<queue.Queue at 0x10ef39f98>"
      ]
     },
     "execution_count": 4,
     "metadata": {},
     "output_type": "execute_result"
    }
   ],
   "source": [
    "updater = Updater(token='559576587:AAFggNF96clfCiBwwB0GkwJTmudscMQqoCY')  # тут токен, который выдал вам Ботский Отец!\n",
    "\n",
    "start_handler = CommandHandler('start', start)  \n",
    "\n",
    "location_handler = MessageHandler(Filters.location, handle_location)\n",
    "\n",
    "updater.dispatcher.add_handler(start_handler) \n",
    "updater.dispatcher.add_handler(location_handler) \n",
    "\n",
    "updater.start_polling()  # поехали!"
   ]
  },
  {
   "cell_type": "code",
   "execution_count": null,
   "metadata": {},
   "outputs": [],
   "source": []
  }
 ],
 "metadata": {
  "kernelspec": {
   "display_name": "Python 3",
   "language": "python",
   "name": "python3"
  },
  "language_info": {
   "codemirror_mode": {
    "name": "ipython",
    "version": 3
   },
   "file_extension": ".py",
   "mimetype": "text/x-python",
   "name": "python",
   "nbconvert_exporter": "python",
   "pygments_lexer": "ipython3",
   "version": "3.6.4"
  }
 },
 "nbformat": 4,
 "nbformat_minor": 2
}
